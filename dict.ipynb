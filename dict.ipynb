{
 "cells": [
  {
   "cell_type": "code",
   "execution_count": null,
   "metadata": {},
   "outputs": [],
   "source": [
    "ice_cream_dict = {'name': 'Hope','weekly intake': 5, 'favorite ice creams':['Strawberry', 'rocky road']}\n",
    "for cream in ice_cream_dict.values():\n",
    "            print(cream)"
   ]
  },
  {
   "cell_type": "code",
   "execution_count": null,
   "metadata": {},
   "outputs": [],
   "source": [
    "ice_cream_dict = {'name': 'Hope','weekly intake': 5, 'favorite ice creams':['Strawberry', 'rocky road']}\n",
    "for cream in ice_cream_dict.values():\n",
    "            print(cream)\n",
    "for key, value in ice_cream.dict.items():\n",
    "    print(key, '-> ', value)"
   ]
  },
  {
   "cell_type": "code",
   "execution_count": 14,
   "metadata": {},
   "outputs": [
    {
     "name": "stdout",
     "output_type": "stream",
     "text": [
      "Hope\n",
      "5\n",
      "['Strawberry', 'rocky road']\n"
     ]
    },
    {
     "ename": "AttributeError",
     "evalue": "'list' object has no attribute 'dict'",
     "output_type": "error",
     "traceback": [
      "\u001b[31m---------------------------------------------------------------------------\u001b[39m",
      "\u001b[31mAttributeError\u001b[39m                            Traceback (most recent call last)",
      "\u001b[36mCell\u001b[39m\u001b[36m \u001b[39m\u001b[32mIn[14]\u001b[39m\u001b[32m, line 7\u001b[39m\n\u001b[32m      2\u001b[39m \u001b[38;5;28;01mfor\u001b[39;00m cream \u001b[38;5;129;01min\u001b[39;00m ice_cream_dict.values():\n\u001b[32m      3\u001b[39m     \u001b[38;5;28mprint\u001b[39m(cream)\n\u001b[32m----> \u001b[39m\u001b[32m7\u001b[39m \u001b[38;5;28;01mfor\u001b[39;00m key, value \u001b[38;5;129;01min\u001b[39;00m \u001b[43mice_cream\u001b[49m\u001b[43m.\u001b[49m\u001b[43mdict\u001b[49m.items():\n\u001b[32m      8\u001b[39m     \u001b[38;5;28mprint\u001b[39m(key, \u001b[33m'\u001b[39m\u001b[33m-> \u001b[39m\u001b[33m'\u001b[39m, value)\n",
      "\u001b[31mAttributeError\u001b[39m: 'list' object has no attribute 'dict'"
     ]
    }
   ],
   "source": [
    "ice_cream_dict = {'name': 'Hope','weekly intake': 5, 'favorite ice creams':['Strawberry', 'rocky road']}\n",
    "for cream in ice_cream_dict.values():\n",
    "    print(cream)\n",
    "\n",
    "\n",
    "\n",
    "for key, value in ice_cream.dict.items():\n",
    "    print(key, '-> ', value)"
   ]
  },
  {
   "cell_type": "code",
   "execution_count": null,
   "metadata": {},
   "outputs": [],
   "source": []
  },
  {
   "cell_type": "code",
   "execution_count": null,
   "metadata": {},
   "outputs": [],
   "source": []
  }
 ],
 "metadata": {
  "kernelspec": {
   "display_name": "Python 3",
   "language": "python",
   "name": "python3"
  },
  "language_info": {
   "codemirror_mode": {
    "name": "ipython",
    "version": 3
   },
   "file_extension": ".py",
   "mimetype": "text/x-python",
   "name": "python",
   "nbconvert_exporter": "python",
   "pygments_lexer": "ipython3",
   "version": "3.13.2"
  }
 },
 "nbformat": 4,
 "nbformat_minor": 2
}
